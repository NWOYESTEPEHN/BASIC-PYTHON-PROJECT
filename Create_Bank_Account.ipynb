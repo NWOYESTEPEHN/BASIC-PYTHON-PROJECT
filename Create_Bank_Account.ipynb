{
  "nbformat": 4,
  "nbformat_minor": 0,
  "metadata": {
    "colab": {
      "provenance": [],
      "authorship_tag": "ABX9TyOTI4lkAPDah0SlruLB0AbF",
      "include_colab_link": true
    },
    "kernelspec": {
      "name": "python3",
      "display_name": "Python 3"
    },
    "language_info": {
      "name": "python"
    }
  },
  "cells": [
    {
      "cell_type": "markdown",
      "metadata": {
        "id": "view-in-github",
        "colab_type": "text"
      },
      "source": [
        "<a href=\"https://colab.research.google.com/github/NWOYESTEPEHN/BASIC-PYTHON-PROJECT/blob/main/Create_Bank_Account.ipynb\" target=\"_parent\"><img src=\"https://colab.research.google.com/assets/colab-badge.svg\" alt=\"Open In Colab\"/></a>"
      ]
    },
    {
      "cell_type": "markdown",
      "source": [
        "# **Create and Manipulate a Personal Bank Account.**\n",
        "**Introduction:**\n",
        "\n",
        ">  Here's a simple Python code that creates a bank account class with methods for accepting deposits, allowing withdrawals, showing the balance, and showing the account details. I'll break down the code and explain each block along the way:\n",
        "\n",
        "1. Create a Class BankAccount:"
      ],
      "metadata": {
        "id": "5_LWOsQPHwXO"
      }
    },
    {
      "cell_type": "code",
      "source": [
        "class BankAccount:\n",
        "    def __init__(self, account_number, account_holder):\n",
        "        self.account_number = account_number\n",
        "        self.account_holder = account_holder\n",
        "        self.balance = 0\n"
      ],
      "metadata": {
        "id": "KgHKAm6kIyZy"
      },
      "execution_count": null,
      "outputs": []
    },
    {
      "cell_type": "markdown",
      "source": [
        "> We defined The method initializes three instance variables: account_number, account_holder, and balance. But notice that balance wasn't passed as a parameter while initializing the instance variable. It is reasonable that a new accounts starts with a balance of zero, so we will just set a default for the value of balance. It is independent of the inputs provided during initialization.\n",
        "\n",
        "2. Let's Define the deposit method of the BankAccount class:"
      ],
      "metadata": {
        "id": "dsLPBtwAKiVD"
      }
    },
    {
      "cell_type": "code",
      "source": [
        "    def deposit(self, amount):\n",
        "        self.balance += amount\n"
      ],
      "metadata": {
        "id": "b2jbx7wTL_XP"
      },
      "execution_count": null,
      "outputs": []
    },
    {
      "cell_type": "markdown",
      "source": [
        "> This method takes two parameters self and amount. self refers to the instance of the class on which the method is called. while amount is the money to be deposited. Now the new balance becomes the old balance plus the deposited amount.\n",
        "\n",
        "3. Let's Define the Withdraw method of the BankAccount class:"
      ],
      "metadata": {
        "id": "6Bz6HIxeMIJL"
      }
    },
    {
      "cell_type": "code",
      "source": [
        "    def withdraw(self, amount):\n",
        "        if amount > self.balance:\n",
        "            print(\"Insufficient balance.\")\n",
        "        else:\n",
        "            self.balance -= amount\n"
      ],
      "metadata": {
        "id": "gcj_gGgrILuM"
      },
      "execution_count": null,
      "outputs": []
    },
    {
      "cell_type": "markdown",
      "source": [
        "> In this code the amount in the parameter refers to the amount that is being withdrew. If the amount is greater than the new balance, then it prints out \"Insufficient Funds\" but if it isn't greater, then a new balance becomes old balance minus withdrew amount.\n",
        "\n",
        "4. Let's Define the Show_Balance method of the BankAccount class:"
      ],
      "metadata": {
        "id": "BGpNnBZeM_EB"
      }
    },
    {
      "cell_type": "code",
      "source": [
        "    def show_balance(self):\n",
        "        print(f\"Current balance: {self.balance}\")\n"
      ],
      "metadata": {
        "id": "nJhQBpyoOTEL"
      },
      "execution_count": null,
      "outputs": []
    },
    {
      "cell_type": "markdown",
      "source": [
        "5. Let's Define the Show_Account_details method of the BankAccount class:"
      ],
      "metadata": {
        "id": "3bFgKI9EPTDy"
      }
    },
    {
      "cell_type": "code",
      "source": [
        "    def show_details(self):\n",
        "        print(f\"Account Number: {self.account_number}\")\n",
        "        print(f\"Account Holder: {self.account_holder}\")\n",
        "        print(f\"Balance: {self.balance}\")\n"
      ],
      "metadata": {
        "id": "-WGXLrsnPfi5"
      },
      "execution_count": null,
      "outputs": []
    }
  ]
}