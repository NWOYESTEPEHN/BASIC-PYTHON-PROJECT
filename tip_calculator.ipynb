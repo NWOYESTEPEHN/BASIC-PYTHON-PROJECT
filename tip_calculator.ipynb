{
  "nbformat": 4,
  "nbformat_minor": 0,
  "metadata": {
    "colab": {
      "provenance": [],
      "authorship_tag": "ABX9TyOerL4/YzV+I7fYkaR9zUKL",
      "include_colab_link": true
    },
    "kernelspec": {
      "name": "python3",
      "display_name": "Python 3"
    },
    "language_info": {
      "name": "python"
    }
  },
  "cells": [
    {
      "cell_type": "markdown",
      "metadata": {
        "id": "view-in-github",
        "colab_type": "text"
      },
      "source": [
        "<a href=\"https://colab.research.google.com/github/NWOYESTEPEHN/BASIC-PYTHON-PROJECT/blob/main/tip_calculator.ipynb\" target=\"_parent\"><img src=\"https://colab.research.google.com/assets/colab-badge.svg\" alt=\"Open In Colab\"/></a>"
      ]
    },
    {
      "cell_type": "markdown",
      "source": [
        "# **Tip Calculator**\n",
        "**Introduction**\n",
        ">This project is a simple tip calculator that calculates the total cost of a meal, including tax and tip. It takes the meal cost, tax rate, and tip rate as input and outputs the total cost. This is a simple project from the codecademy\n",
        "\n",
        "**Steps**\n",
        "\n",
        "\n",
        "1.   Intialize the variables:\n",
        "\n",
        "\n",
        "\n"
      ],
      "metadata": {
        "id": "-EgLhGOdQ_g_"
      }
    },
    {
      "cell_type": "code",
      "source": [
        "meal = 44.50\n",
        "tax = 6.75 / 100\n",
        "tip = 15.0 / 100"
      ],
      "metadata": {
        "id": "xeFdh2YjRr8A"
      },
      "execution_count": null,
      "outputs": []
    },
    {
      "cell_type": "markdown",
      "source": [
        "In this step, we intialized the variables 'meal', 'tax' and 'tip' with a certain values. where' meal' is the cost of the meal, 'tax' represents the tax rate(6.75%) and 'tip' represents the tip rate (15%).\n",
        "\n",
        "\n",
        "\n",
        "\n",
        "2.   Let's Calculate the tax amount and update the cost of the meal:\n",
        "\n"
      ],
      "metadata": {
        "id": "5H4YDCgOSEku"
      }
    },
    {
      "cell_type": "code",
      "source": [
        "meal += meal * tax"
      ],
      "metadata": {
        "id": "BUXEHKGwTcpZ"
      },
      "execution_count": null,
      "outputs": []
    },
    {
      "cell_type": "markdown",
      "source": [
        "Here we calculate the tax amount by multiplying the tax rate ('tax') with the cost of the meal ('meal'). We then updated the meal by adding the taxed amount to the cost of the meal.\n",
        "\n",
        "\n",
        "\n",
        "3. Let Calculate the tip amount and update the tip variable:\n",
        "\n",
        "\n",
        "\n"
      ],
      "metadata": {
        "id": "wMG0PFAoT27H"
      }
    },
    {
      "cell_type": "code",
      "source": [
        "tip += meal * tip"
      ],
      "metadata": {
        "id": "6zXYmnPXUyXW"
      },
      "execution_count": null,
      "outputs": []
    },
    {
      "cell_type": "markdown",
      "source": [
        "We calculated the tip amount by multiplying the updated cost of meal with the tip rate.\n",
        "\n",
        "4. Calculate the total cost:"
      ],
      "metadata": {
        "id": "T_w6dJDGU-sU"
      }
    },
    {
      "cell_type": "code",
      "source": [
        "total_cost = meal + tip "
      ],
      "metadata": {
        "id": "DePOOsFAXuql"
      },
      "execution_count": null,
      "outputs": []
    },
    {
      "cell_type": "markdown",
      "source": [
        "5. Then we print the result:"
      ],
      "metadata": {
        "id": "HqroqcEAX7_F"
      }
    },
    {
      "cell_type": "code",
      "source": [
        "print(\"The total cost of your meal is :\", total_cost)"
      ],
      "metadata": {
        "colab": {
          "base_uri": "https://localhost:8080/"
        },
        "id": "EX-PkPmVYCJD",
        "outputId": "3d31479d-9853-4015-e7bb-627c133f5812"
      },
      "execution_count": null,
      "outputs": [
        {
          "output_type": "stream",
          "name": "stdout",
          "text": [
            "The total cost of your meal is : 54.779312499999996\n"
          ]
        }
      ]
    }
  ]
}