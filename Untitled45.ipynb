{
  "nbformat": 4,
  "nbformat_minor": 0,
  "metadata": {
    "colab": {
      "provenance": [],
      "authorship_tag": "ABX9TyN2Y/SPzGMZLw9J5+mUuGQ8",
      "include_colab_link": true
    },
    "kernelspec": {
      "name": "python3",
      "display_name": "Python 3"
    },
    "language_info": {
      "name": "python"
    }
  },
  "cells": [
    {
      "cell_type": "markdown",
      "metadata": {
        "id": "view-in-github",
        "colab_type": "text"
      },
      "source": [
        "<a href=\"https://colab.research.google.com/github/NWOYESTEPEHN/BASIC-PYTHON-PROJECT/blob/main/Untitled45.ipynb\" target=\"_parent\"><img src=\"https://colab.research.google.com/assets/colab-badge.svg\" alt=\"Open In Colab\"/></a>"
      ]
    },
    {
      "cell_type": "code",
      "execution_count": 13,
      "metadata": {
        "id": "iOwKttpFJAdC"
      },
      "outputs": [],
      "source": [
        "from random import randint\n",
        "\n",
        "options = [\"ROCK\", \"PAPER\", \"SCISSOR\"]\n",
        "message = {\"tie\" : \"Yawn it's a tie!\", \"won\" : \"Yay you won!\", \"lost\" : \"Aww you lost\"}\n",
        "\n",
        "def decide_winner(user_choice, computer_choice):\n",
        "    print (\"user_choice %s\" % user_choice)\n",
        "    print (\"computer_choice %s\" % computer_choice)\n",
        "    if user_choice == computer_choice:\n",
        "     print (message[\"tie\"])\n",
        "    elif user_choice == options[0] and computer_choice == options[2]:\n",
        "      print (message[\"won\"])\n",
        "    elif user_choice == options[1] and computer_choice == options[0]:\n",
        "        print (message[\"won\"])\n",
        "    elif user_choice == options[2] and computer_choice == options[1]:\n",
        "      print (message[\"won\"])\n",
        "    else :\n",
        "        print (message[\"lost\"])\n",
        "def play_RPS():\n",
        "    user_choice = input(\"Enter Rock, Paper, Or Scissor: \")\n",
        "    user_choice = user_choice.upper()\n",
        "    computer_choice = options[randint(0, 2)]\n",
        "    decide_winner(user_choice, computer_choice)"
      ]
    },
    {
      "cell_type": "code",
      "source": [
        "play_RPS()"
      ],
      "metadata": {
        "colab": {
          "base_uri": "https://localhost:8080/"
        },
        "id": "ARAwbl6wN35U",
        "outputId": "d04c66fe-6b1c-4fc2-f04c-d5e225d16cf1"
      },
      "execution_count": 14,
      "outputs": [
        {
          "output_type": "stream",
          "name": "stdout",
          "text": [
            "Enter Rock, Paper, Or Scissor: rock\n",
            "user_choice ROCK\n",
            "computer_choice ROCK\n",
            "Yawn it's a tie!\n"
          ]
        }
      ]
    }
  ]
}