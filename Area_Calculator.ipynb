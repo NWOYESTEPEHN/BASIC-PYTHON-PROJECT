{
  "nbformat": 4,
  "nbformat_minor": 0,
  "metadata": {
    "colab": {
      "provenance": [],
      "authorship_tag": "ABX9TyPSadShkjePWEmySuptoYpG",
      "include_colab_link": true
    },
    "kernelspec": {
      "name": "python3",
      "display_name": "Python 3"
    },
    "language_info": {
      "name": "python"
    }
  },
  "cells": [
    {
      "cell_type": "markdown",
      "metadata": {
        "id": "view-in-github",
        "colab_type": "text"
      },
      "source": [
        "<a href=\"https://colab.research.google.com/github/NWOYESTEPEHN/BASIC-PYTHON-PROJECT/blob/main/Area_Calculator.ipynb\" target=\"_parent\"><img src=\"https://colab.research.google.com/assets/colab-badge.svg\" alt=\"Open In Colab\"/></a>"
      ]
    },
    {
      "cell_type": "markdown",
      "source": [
        "# **Area Calculator!**\n",
        "\n",
        ">**Introduction:**\n",
        "1. The first dtep while be to import the 'math' module from the python standard library. w will like to access the value of 'math.pi' for calculating the area of the circle\n"
      ],
      "metadata": {
        "id": "E32_8gqweEi0"
      }
    },
    {
      "cell_type": "code",
      "source": [
        "import math as maths \n"
      ],
      "metadata": {
        "id": "MH_rwJLpehDd"
      },
      "execution_count": null,
      "outputs": []
    },
    {
      "cell_type": "markdown",
      "source": [
        "2. Let define the function for the area calculation \n",
        "*   Calculate_circle_area(radius): we want this function to take the radius of a cirle, raise it to the power of 2 and multiply it by pi' and return the result.\n",
        "*   Calculate_triangle_area(base, height): we want this function to multple the base with the height and divide the result by 2 and return the result.\n",
        "\n"
      ],
      "metadata": {
        "id": "BqO_2vG0gBGg"
      }
    },
    {
      "cell_type": "code",
      "source": [
        "#define function to calculate the area of a circle\n",
        "def calculate_circle_area(radius):\n",
        "    return math.pi * radius**2\n",
        "\n",
        "#define function to calculate the area of a triangle\n",
        "def calculate_triangle_area(base, height):\n",
        "    return 0.5 * base * height  "
      ],
      "metadata": {
        "id": "0YxjEmBlg_mH"
      },
      "execution_count": null,
      "outputs": []
    },
    {
      "cell_type": "markdown",
      "source": [
        "3. Display the menu:\n",
        "\n",
        "\n",
        "*   prompt the user to select a shape using the print()\n",
        "*   the users' choice of shape is obtained using the input() function, and it converts the input() into 'int'\n",
        "\n"
      ],
      "metadata": {
        "id": "1GDrSBqbkHF0"
      }
    },
    {
      "cell_type": "code",
      "source": [
        "# Displaying the menu\n",
        "print(\"Area Calculator Menu:\")\n",
        "print(\"1. Circle\")\n",
        "print(\"2. Triangle\")\n",
        "# User input and calculation\n",
        "shape_choice = int(input(\"Select a shape (1 or 2): \"))"
      ],
      "metadata": {
        "id": "T3E26ucqldh0"
      },
      "execution_count": null,
      "outputs": []
    },
    {
      "cell_type": "markdown",
      "source": [
        "4. User input and calculation:\n",
        "\n",
        "\n",
        "\n",
        "*   The user's choice is obtained using the input() function, and it is converted \n",
        "to an integer using int() for comparison purposes.\n",
        "*   If the user selects 1 (circle), the code prompts for the radius of the circle using input() and converts it to a float.\n",
        "*   If the user selects 2 (triangle), the code prompts for the base and height of the triangle using input() and converts them to floats."
      ],
      "metadata": {
        "id": "QF_tSWgou_L3"
      }
    },
    {
      "cell_type": "code",
      "source": [
        "if shape_choice == 1:\n",
        "    # Calculate the area of a circle\n",
        "    radius = float(input(\"Enter the radius of the circle: \"))\n",
        "    area = calculate_circle_area(radius)\n",
        "    print(\"The area of the circle is:\", area)\n",
        "elif shape_choice == 2:\n",
        "    # Calculate the area of a triangle\n",
        "    base = float(input(\"Enter the base length of the triangle: \"))\n",
        "    height = float(input(\"Enter the height of the triangle: \"))\n",
        "    area = calculate_triangle_area(base, height)\n",
        "    print(\"The area of the triangle is:\", area)"
      ],
      "metadata": {
        "id": "rUNSvAEJv6mB"
      },
      "execution_count": 15,
      "outputs": []
    },
    {
      "cell_type": "markdown",
      "source": [
        "5. Handling invalid user input:\n",
        "\n",
        "If the user enters an invalid choice (neither 1 nor 2), an error message is displayed using print()."
      ],
      "metadata": {
        "id": "hBSZYByOwCMJ"
      }
    },
    {
      "cell_type": "code",
      "source": [
        "else:\n",
        "    print(\"Invalid choice. Please select 1 or 2.\")"
      ],
      "metadata": {
        "id": "vXFrivYywPNN"
      },
      "execution_count": null,
      "outputs": []
    }
  ]
}