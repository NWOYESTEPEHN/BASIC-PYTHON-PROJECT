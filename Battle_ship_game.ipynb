{
  "nbformat": 4,
  "nbformat_minor": 0,
  "metadata": {
    "colab": {
      "provenance": [],
      "authorship_tag": "ABX9TyPPzofZzFW9oFjEvWgUg3ls",
      "include_colab_link": true
    },
    "kernelspec": {
      "name": "python3",
      "display_name": "Python 3"
    },
    "language_info": {
      "name": "python"
    }
  },
  "cells": [
    {
      "cell_type": "markdown",
      "metadata": {
        "id": "view-in-github",
        "colab_type": "text"
      },
      "source": [
        "<a href=\"https://colab.research.google.com/github/NWOYESTEPEHN/BASIC-PYTHON-PROJECT/blob/main/Battle_ship_game.ipynb\" target=\"_parent\"><img src=\"https://colab.research.google.com/assets/colab-badge.svg\" alt=\"Open In Colab\"/></a>"
      ]
    },
    {
      "cell_type": "markdown",
      "source": [
        "# **Welcome Battleship!**\n",
        "**Introduction:**\n",
        "\n",
        "\n",
        "> In this project you will build a simplified, one-player version of the classic board game Battleship! In this version of the game, there will be a single ship hidden in a random location on a 5x5 grid. The player will have 10 guesses to try to sink the ship.\n",
        "\n",
        "1. Let's start by creating the game board. We'll represent the board as a list of lists, where each element represents a cell on the board. We'll use the value 'O' to represent an empty cell, 'X' to represent a hit, and 'M' to represent a miss.\n",
        "\n"
      ],
      "metadata": {
        "id": "WML_JY2Gs5oN"
      }
    },
    {
      "cell_type": "code",
      "source": [
        "board = []\n",
        "\n",
        "for x in range(0, 5):\n",
        "  board.append([\"O\"] * 5)\n"
      ],
      "metadata": {
        "id": "pPaXTs1vnXUG"
      },
      "execution_count": 14,
      "outputs": []
    },
    {
      "cell_type": "markdown",
      "source": [
        "2. Next, let's place the ship on the board. We'll randomly select a row and column for the ship's location using the random module."
      ],
      "metadata": {
        "id": "VDP72p0ls7tE"
      }
    },
    {
      "cell_type": "code",
      "source": [
        "import random\n",
        "\n",
        "ship_row = random.randint(0, 4)\n",
        "ship_col = random.randint(0, 4)\n"
      ],
      "metadata": {
        "id": "guE-FHUtnZ5W"
      },
      "execution_count": 15,
      "outputs": []
    },
    {
      "cell_type": "markdown",
      "source": [
        "3. Now, let's define a function to get the player's guess. We'll use the input function to get the row and column from the player.This function prompts the player to enter their guess for the row and column. It validates the input to ensure it is within the valid range of 0-4. If the input is not valid, it prompts the player again."
      ],
      "metadata": {
        "id": "vA4mXOUYs82d"
      }
    },
    {
      "cell_type": "code",
      "source": [
        "def get_guess():\n",
        "    while True:\n",
        "        try:\n",
        "            guess_row = int(input(\"Guess Row (0-4): \"))\n",
        "            guess_col = int(input(\"Guess Col (0-4): \"))\n",
        "            \n",
        "            if guess_row < 0 or guess_row > 4 or guess_col < 0 or guess_col > 4:\n",
        "                raise ValueError\n",
        "            \n",
        "            return guess_row, guess_col\n",
        "        except ValueError:\n",
        "            print(\"Invalid input. Please enter a number between 0 and 4.\")\n"
      ],
      "metadata": {
        "id": "h9Wu-Xd4ndrV"
      },
      "execution_count": 16,
      "outputs": []
    },
    {
      "cell_type": "markdown",
      "source": [
        "4. Next, let's define a function to check if the player's guess is a hit or a miss. This function compares the player's guess (row and column) with the actual ship's location. If they match, it returns True, indicating a hit. Otherwise, it returns False, indicating a miss."
      ],
      "metadata": {
        "id": "jr3nYjG3s-qu"
      }
    },
    {
      "cell_type": "code",
      "source": [
        "def check_guess(guess_row, guess_col, ship_row, ship_col):\n",
        "    if guess_row == ship_row and guess_col == ship_col:\n",
        "        return True  # Hit\n",
        "    else:\n",
        "        return False  # Miss\n"
      ],
      "metadata": {
        "id": "7emHGi_1nhj1"
      },
      "execution_count": 17,
      "outputs": []
    },
    {
      "cell_type": "markdown",
      "source": [
        "5. We can now define a function to update the board and display the result. This function updates the game board based on the player's guess. If it's a hit, the corresponding cell on the board is marked with 'X', and a success message is printed. If it's a miss, the cell is marked with 'M', and a failure message is printed. After updating the board, it calls the print_board() function to display the updated board."
      ],
      "metadata": {
        "id": "I1_qKTuos_v0"
      }
    },
    {
      "cell_type": "code",
      "source": [
        "def update_board(guess_row, guess_col, hit):\n",
        "    if hit:\n",
        "        board[guess_row][guess_col] = 'X'\n",
        "        print(\"Congratulations! You sank the battleship!\")\n",
        "    else:\n",
        "        board[guess_row][guess_col] = 'M'\n",
        "        print(\"You missed the battleship!\")\n",
        "\n",
        "    print_board()\n"
      ],
      "metadata": {
        "id": "XU9yInrbnmGm"
      },
      "execution_count": 18,
      "outputs": []
    },
    {
      "cell_type": "markdown",
      "source": [
        "6. Finally, let's define a function to print the board. This function prints the current state of the game board, with each cell separated by a space. It displays the board as a 5x5 grid."
      ],
      "metadata": {
        "id": "DxgwTv-4tAgV"
      }
    },
    {
      "cell_type": "code",
      "source": [
        "def print_board():\n",
        "    for row in board:\n",
        "        print(' '.join(row))\n"
      ],
      "metadata": {
        "id": "JN6FrFCOnoWe"
      },
      "execution_count": 19,
      "outputs": []
    },
    {
      "cell_type": "markdown",
      "source": [
        "7. Now, we can put everything together and create the main game loop."
      ],
      "metadata": {
        "id": "1IdtoC_9tBVF"
      }
    },
    {
      "cell_type": "code",
      "source": [
        "def play_battleship():\n",
        "    print(\"Welcome to Battleship!\")\n",
        "\n",
        "    for turn in range(10):\n",
        "        print(f\"\\nTurn {turn + 1}\")\n",
        "\n",
        "        guess_row, guess_col = get_guess()\n",
        "        hit = check_guess(guess_row, guess_col, ship_row, ship_col)\n",
        "        update_board(guess_row, guess_col, hit)\n",
        "\n",
        "        if hit:\n",
        "            break\n",
        "\n",
        "    print(\"\\nGame over!\")\n",
        "\n",
        "play_battleship()\n"
      ],
      "metadata": {
        "id": "h5-wi3q4nvKN",
        "outputId": "5c306599-ddf0-493a-aea1-e1d538b64772",
        "colab": {
          "base_uri": "https://localhost:8080/"
        }
      },
      "execution_count": null,
      "outputs": [
        {
          "output_type": "stream",
          "name": "stdout",
          "text": [
            "Welcome to Battleship!\n",
            "\n",
            "Turn 1\n",
            "Guess Row (0-4): 4\n",
            "Guess Col (0-4): 2\n",
            "You missed the battleship!\n",
            "O O O O O\n",
            "O O O O O\n",
            "O O O O O\n",
            "O O O O O\n",
            "O O M O O\n",
            "\n",
            "Turn 2\n"
          ]
        }
      ]
    },
    {
      "cell_type": "markdown",
      "source": [],
      "metadata": {
        "id": "UR6t868XtCRu"
      }
    }
  ]
}