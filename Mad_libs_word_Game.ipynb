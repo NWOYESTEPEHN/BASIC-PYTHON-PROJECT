{
  "nbformat": 4,
  "nbformat_minor": 0,
  "metadata": {
    "colab": {
      "provenance": [],
      "authorship_tag": "ABX9TyOskyJ8W2DyU3uvUeTyZu1w",
      "include_colab_link": true
    },
    "kernelspec": {
      "name": "python3",
      "display_name": "Python 3"
    },
    "language_info": {
      "name": "python"
    }
  },
  "cells": [
    {
      "cell_type": "markdown",
      "metadata": {
        "id": "view-in-github",
        "colab_type": "text"
      },
      "source": [
        "<a href=\"https://colab.research.google.com/github/NWOYESTEPEHN/BASIC-PYTHON-PROJECT/blob/main/Mad_libs_word_Game.ipynb\" target=\"_parent\"><img src=\"https://colab.research.google.com/assets/colab-badge.svg\" alt=\"Open In Colab\"/></a>"
      ]
    },
    {
      "cell_type": "markdown",
      "source": [
        "#**Mad Libs Word Game!**\n",
        "\n",
        "\n",
        "> **Introduction:**\n",
        "1. The first step in creating a Mad Libs word game is to define the story with blank spaces that the user will fill in. For this project, we'll use the following story:\n",
        "\n"
      ],
      "metadata": {
        "id": "FVEaYhaYDjrz"
      }
    },
    {
      "cell_type": "code",
      "source": [
        "story = \"Once upon a time in {city}, there was a {adjective} {noun}. {pronoun} loved to {verb} every day. One day, {pronoun} found a {adjective} {noun2} and decided to {verb2} with it. The {noun2} was {adverb} {adjective2}! {pronoun} couldn't believe {pronoun}'s luck.\""
      ],
      "metadata": {
        "id": "fu4D0h5_FmWU"
      },
      "execution_count": 1,
      "outputs": []
    },
    {
      "cell_type": "markdown",
      "source": [
        "This story has several placeholders that the user will fill in with different types of words, such as a city, adjectives, nouns, verbs, adverbs, and pronouns. The placeholders are indicated by the curly braces {} and a word type, such as {city} or {adjective}.\n",
        "2. Next, we'll define a function to prompt the user for input. This function will take a word type as an argument, display a prompt to the user, and return the user's input."
      ],
      "metadata": {
        "id": "MphrSORuFxTh"
      }
    },
    {
      "cell_type": "code",
      "source": [
        "def prompt_input(word_type):\n",
        "    user_input = input(\"Enter a {}: \".format(word_type))\n",
        "    return user_input"
      ],
      "metadata": {
        "id": "HkxlSxbpF_Pq"
      },
      "execution_count": 2,
      "outputs": []
    },
    {
      "cell_type": "markdown",
      "source": [
        "The function uses the built-in input() function to display a prompt to the user and wait for input. The prompt message includes the word type passed as an argument to the function. The user's input is then returned.\n",
        "3. Now we'll define the main function that runs the Mad Libs word game. This function will prompt the user for input for each word type, fill in the story with the user's input, and print the filled-in story."
      ],
      "metadata": {
        "id": "qoAZCXL4GNRY"
      }
    },
    {
      "cell_type": "code",
      "source": [
        "def mad_libs():\n",
        "    city = prompt_input(\"city\")\n",
        "    adjective = prompt_input(\"adjective\")\n",
        "    noun = prompt_input(\"noun\")\n",
        "    pronoun = prompt_input(\"pronoun\")\n",
        "    verb = prompt_input(\"verb\")\n",
        "    adjective2 = prompt_input(\"adjective\")\n",
        "    noun2 = prompt_input(\"noun\")\n",
        "    verb2 = prompt_input(\"verb\")\n",
        "    adverb = prompt_input(\"adverb\")\n",
        "\n",
        "    # Fill in the blanks in the story\n",
        "    filled_story = story.format(city=city, adjective=adjective, noun=noun, pronoun=pronoun, verb=verb, adjective2=adjective2, noun2=noun2, verb2=verb2, adverb=adverb)\n",
        "\n",
        "    # Print the filled story\n",
        "    print(\"\\n\" + filled_story)\n"
      ],
      "metadata": {
        "id": "8GXy1A_3Gsku"
      },
      "execution_count": 3,
      "outputs": []
    },
    {
      "cell_type": "markdown",
      "source": [
        "This function prompts the user for input using the prompt_input() function for each word type required in the story. It then uses the format() method of the str class to fill in the story with the user's input, using the placeholders defined in the story. Finally, it prints the filled"
      ],
      "metadata": {
        "id": "kEVeTm6YGzh7"
      }
    },
    {
      "cell_type": "code",
      "source": [
        "mad_libs()"
      ],
      "metadata": {
        "id": "ZIjgL8qQG7bi"
      },
      "execution_count": null,
      "outputs": []
    }
  ]
}