{
  "nbformat": 4,
  "nbformat_minor": 0,
  "metadata": {
    "colab": {
      "provenance": [],
      "authorship_tag": "ABX9TyM05Mef48yYka0maVFwJnKS",
      "include_colab_link": true
    },
    "kernelspec": {
      "name": "python3",
      "display_name": "Python 3"
    },
    "language_info": {
      "name": "python"
    }
  },
  "cells": [
    {
      "cell_type": "markdown",
      "metadata": {
        "id": "view-in-github",
        "colab_type": "text"
      },
      "source": [
        "<a href=\"https://colab.research.google.com/github/NWOYESTEPEHN/BASIC-PYTHON-PROJECT/blob/main/Number_guess_Dice_Game.ipynb\" target=\"_parent\"><img src=\"https://colab.research.google.com/assets/colab-badge.svg\" alt=\"Open In Colab\"/></a>"
      ]
    },
    {
      "cell_type": "markdown",
      "source": [
        "# **Number Guess Dice Game !**\n",
        "\n",
        "**Introduction:**\n",
        "\n",
        "\n",
        "> In this project, we’ll build a program that rolls a pair of dice and asks the user to guess the sum. If the user’s guess is equal to the total value of the dice roll, the user wins! Otherwise, the computer wins. And also we want to handle a possible error that might occur, when the user inputs a number that isn't greater than 2 or less than 13.\n",
        "\n",
        "**Steps:**\n",
        "1. This code defines the roll_dice function, which uses the random.randint function to simulate rolling a pair of dice. It generates two random numbers between 1 and 6 (inclusive) and returns their sum.\n",
        "\n",
        "\n",
        "\n"
      ],
      "metadata": {
        "id": "ooGmaTpeO1jh"
      }
    },
    {
      "cell_type": "code",
      "source": [
        "from random import randint\n",
        "\n",
        "def roll_dice():\n",
        "    \"\"\"Rolls a pair of dice and returns the sum.\"\"\"\n",
        "    die1 = random.randint(1, 6)\n",
        "    die2 = random.randint(1, 6)\n",
        "    return die1 + die2\n"
      ],
      "metadata": {
        "id": "XFKZUoHpQI9t"
      },
      "execution_count": 4,
      "outputs": []
    },
    {
      "cell_type": "markdown",
      "source": [
        "2. This code defines the get_user_guess function. It prompts the user to enter a guess between 2 and 12 and uses a while loop to keep asking for input until a valid guess is provided. It handles invalid inputs (non-integer or out-of-range) with a try-except block, printing appropriate error messages."
      ],
      "metadata": {
        "id": "hK2ngxbOQV6s"
      }
    },
    {
      "cell_type": "code",
      "source": [
        "def get_user_guess():\n",
        "    \"\"\"Asks the user to guess a number.\"\"\"\n",
        "    valid_range = range(2, 13)\n",
        "    guess = None\n",
        "    while guess is None or guess not in valid_range:\n",
        "        try:\n",
        "            guess = int(input(\"Enter your guess (2-12): \"))\n",
        "            if guess not in valid_range:\n",
        "                print(\"Invalid guess! Please enter a number between 2 and 12.\")\n",
        "        except ValueError:\n",
        "            print(\"Invalid guess! Please enter a number.\")\n",
        "    return guess\n"
      ],
      "metadata": {
        "id": "uChYBDbeQiSk"
      },
      "execution_count": 5,
      "outputs": []
    },
    {
      "cell_type": "markdown",
      "source": [
        "3. This code defines the determine_winner function. It takes the user's guess and the total from rolling the dice as input. It compares the user's guess with the dice total and prints the appropriate message to declare the winner."
      ],
      "metadata": {
        "id": "uvpkxhxzQngB"
      }
    },
    {
      "cell_type": "code",
      "source": [
        "def determine_winner(user_guess, dice_total):\n",
        "    \"\"\"Determines the winner based on the user's guess and the dice total.\"\"\"\n",
        "    if user_guess == dice_total:\n",
        "        print(\"Congratulations! You guessed it right. You win!\")\n",
        "    else:\n",
        "        print(\"Sorry! You guessed it wrong. The computer wins.\")\n"
      ],
      "metadata": {
        "id": "ifer3A7-QwWO"
      },
      "execution_count": 7,
      "outputs": []
    },
    {
      "cell_type": "markdown",
      "source": [
        "4. This code defines the play_game function. It calls the roll_dice function to get the dice total, calls the get_user_guess function to get the user's guess, and then calls the determine_winner function to determine the winner based on the user's guess and the dice total."
      ],
      "metadata": {
        "id": "EM4oZaDIQ4Tn"
      }
    },
    {
      "cell_type": "code",
      "source": [
        "def play_game():\n",
        "    \"\"\"Plays a game of dice with the user.\"\"\"\n",
        "    dice_total = roll_dice()\n",
        "    user_guess = get_user_guess()\n",
        "    determine_winner(user_guess, dice_total)\n"
      ],
      "metadata": {
        "id": "rzPbzv_PRG2n"
      },
      "execution_count": 6,
      "outputs": []
    },
    {
      "cell_type": "markdown",
      "source": [
        "5. This code calls the play_game function to start the game. It executes the entire game logic by rolling the dice, getting the user's guess, and determining the winner."
      ],
      "metadata": {
        "id": "urvrz-xCRUwD"
      }
    },
    {
      "cell_type": "code",
      "source": [
        "play_game()"
      ],
      "metadata": {
        "id": "KmsBkjE0RWel"
      },
      "execution_count": null,
      "outputs": []
    }
  ]
}