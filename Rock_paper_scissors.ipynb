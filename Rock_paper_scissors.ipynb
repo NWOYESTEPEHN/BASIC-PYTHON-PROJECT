{
  "nbformat": 4,
  "nbformat_minor": 0,
  "metadata": {
    "colab": {
      "provenance": [],
      "authorship_tag": "ABX9TyNJXWjMfPcieROL83v1aaSL",
      "include_colab_link": true
    },
    "kernelspec": {
      "name": "python3",
      "display_name": "Python 3"
    },
    "language_info": {
      "name": "python"
    }
  },
  "cells": [
    {
      "cell_type": "markdown",
      "metadata": {
        "id": "view-in-github",
        "colab_type": "text"
      },
      "source": [
        "<a href=\"https://colab.research.google.com/github/NWOYESTEPEHN/BASIC-PYTHON-PROJECT/blob/main/Rock_paper_scissors.ipynb\" target=\"_parent\"><img src=\"https://colab.research.google.com/assets/colab-badge.svg\" alt=\"Open In Colab\"/></a>"
      ]
    },
    {
      "cell_type": "markdown",
      "source": [
        "# **Rock, Paper, Scissors!**\n",
        "\n",
        "\n",
        "> **Introduction:**\n",
        "\n",
        "1. We are going to build a simple game called Rock, paper, Scissor in python. IN this program, the codes will prompt the user to select any one the the three: Rock, paper, scissors. Also the computer will choose randomly and will compare the the result of it's choice withn that of the user.\n",
        "\n"
      ],
      "metadata": {
        "id": "LsN2tngvTC7l"
      }
    },
    {
      "cell_type": "code",
      "source": [
        "from random import randint"
      ],
      "metadata": {
        "id": "cE0gT6MLVUsL"
      },
      "execution_count": 1,
      "outputs": []
    },
    {
      "cell_type": "markdown",
      "source": [
        "This is a function in the module random, that select from a list of options\n",
        "2. This block defines the determine_winner function. It takes two arguments: user_choice and computer_choice, representing the choices made by the user and the computer, respectively."
      ],
      "metadata": {
        "id": "xysfholkVihq"
      }
    },
    {
      "cell_type": "code",
      "source": [
        "def determine_winner(user_choice, computer_choice):\n",
        "    if user_choice == computer_choice:\n",
        "        return \"It's a tie!\"\n",
        "    elif (\n",
        "        (user_choice == \"rock\" and computer_choice == \"scissors\") or\n",
        "        (user_choice == \"paper\" and computer_choice == \"rock\") or\n",
        "        (user_choice == \"scissors\" and computer_choice == \"paper\")\n",
        "    ):\n",
        "        return \"You win!\"\n",
        "    else:\n",
        "        return \"Computer wins!\""
      ],
      "metadata": {
        "id": "F5tEN69LWISa"
      },
      "execution_count": 2,
      "outputs": []
    },
    {
      "cell_type": "markdown",
      "source": [
        "The function checks the possible combinations of choices to determine the winner. If the choices are the same, it's a tie. If the user wins based on the game rules, it returns \"You win!\" If the computer wins, it returns \"Computer wins!\"\n",
        "3. This block defines the play_game function, which contains the main logic of the game."
      ],
      "metadata": {
        "id": "yXjUQ1o7WYyj"
      }
    },
    {
      "cell_type": "code",
      "source": [
        "def play_game():\n",
        "    valid_choices = [\"rock\", \"paper\", \"scissors\"]\n",
        "    user_choice = input(\"Choose rock, paper, or scissors: \").lower()\n",
        "    while user_choice not in valid_choices:\n",
        "        print(\"Invalid choice. Please try again.\")\n",
        "        user_choice = input(\"Choose rock, paper, or scissors: \").lower()\n",
        "\n",
        "    computer_choice = random.choice(valid_choices)\n",
        "    print(\"Computer chooses:\", computer_choice)\n",
        "\n",
        "    print(determine_winner(user_choice, computer_choice))\n",
        "\n",
        "play_game()\n"
      ],
      "metadata": {
        "id": "8lvxasPIWl4K"
      },
      "execution_count": null,
      "outputs": []
    },
    {
      "cell_type": "markdown",
      "source": [
        "* First, we define valid_choices as a list containing the valid options: rock, \n",
        "paper, and scissors.\n",
        "* The user is prompted to enter their choice using the input() function. We convert the input to lowercase using .lower() to make it case-insensitive.\n",
        "* The program checks if the user's choice is in the valid_choices list. If not, it displays an error message and prompts the user again until a valid choice is entered.\n",
        "* The computer's choice is generated using random.choice(valid_choices). It selects a random element from the valid_choices list.\n",
        "* The computer's choice is displayed to the user.\n",
        "* Finally, the program calls the determine_winner function with the user's choice and the computer's choice as arguments and displays the result."
      ],
      "metadata": {
        "id": "hz2js-5RWtBC"
      }
    }
  ]
}