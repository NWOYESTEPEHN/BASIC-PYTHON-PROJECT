{
  "nbformat": 4,
  "nbformat_minor": 0,
  "metadata": {
    "colab": {
      "provenance": [],
      "authorship_tag": "ABX9TyNmZCVut4uGKAygx1x5RtqU",
      "include_colab_link": true
    },
    "kernelspec": {
      "name": "python3",
      "display_name": "Python 3"
    },
    "language_info": {
      "name": "python"
    }
  },
  "cells": [
    {
      "cell_type": "markdown",
      "metadata": {
        "id": "view-in-github",
        "colab_type": "text"
      },
      "source": [
        "<a href=\"https://colab.research.google.com/github/NWOYESTEPEHN/BASIC-PYTHON-PROJECT/blob/main/Calendar_app.ipynb\" target=\"_parent\"><img src=\"https://colab.research.google.com/assets/colab-badge.svg\" alt=\"Open In Colab\"/></a>"
      ]
    },
    {
      "cell_type": "markdown",
      "source": [
        "# **Simple Calendar App**\n",
        "**Introduction:**\n",
        "\n",
        "\n",
        ">  In this project, we’ll build a basic calendar that the user will be able to interact with from the command line. The user should be able to choose to:\n",
        "\n",
        "1. View the calendar\n",
        "2. Add an event to the calendar\n",
        "3. Update an existing event\n",
        "4. Delete an existing event\n",
        "\n"
      ],
      "metadata": {
        "id": "q4Ho7m4DkZl0"
      }
    },
    {
      "cell_type": "code",
      "source": [
        "from datetime import datetime\n",
        "\n",
        "calendar = {}\n",
        "def welcome():\n",
        "    print(\"Welcome to the Calendar App.!\")"
      ],
      "metadata": {
        "id": "WPiL9zXhlIiF"
      },
      "execution_count": null,
      "outputs": []
    },
    {
      "cell_type": "markdown",
      "source": [
        " > In this line of code, we imported the module datetime, and we created a calendar dictionary, an empty one that will store the events in the calendar. we also defined a function welcome, to print out the heading of the app.\n",
        "\n",
        " 1. Define the function View_calendar:\n",
        "\n",
        "\n"
      ],
      "metadata": {
        "id": "116sWwqTlcs1"
      }
    },
    {
      "cell_type": "code",
      "source": [
        "def view_calendar():\n",
        "    if not calendar:\n",
        "        print(\"No events in the calendar.\")\n",
        "    else:\n",
        "        for date, event in calendar.items():\n",
        "            print(date.strftime(\"%Y-%m-%d\"), \"-\", event)\n"
      ],
      "metadata": {
        "id": "df-4JVP8l3Y7"
      },
      "execution_count": null,
      "outputs": []
    },
    {
      "cell_type": "markdown",
      "source": [
        ">  We created a function view_calendar, This function checks if the calendar is empty. If it is, it prints a message indicating that there are no events. If the calendar has events, it iterates over the items in the dictionary and prints each date and event in the specified format using strftime().\n",
        "\n",
        "2. Define the fuction Add_event:\n"
      ],
      "metadata": {
        "id": "kx3LwZdLmobY"
      }
    },
    {
      "cell_type": "code",
      "source": [
        "def add_event():\n",
        "    date_str = input(\"Enter the date (YYYY-MM-DD): \")\n",
        "    try:\n",
        "        date = datetime.strptime(date_str, \"%Y-%m-%d\")\n",
        "    except ValueError:\n",
        "        print(\"Invalid date format. Please try again.\")\n",
        "        return\n",
        "    \n",
        "    event = input(\"Enter the event: \")\n",
        "    calendar[date] = event\n",
        "    print(\"Event added successfully.\")\n"
      ],
      "metadata": {
        "id": "GrlhT4G8m0k7"
      },
      "execution_count": null,
      "outputs": []
    },
    {
      "cell_type": "markdown",
      "source": [
        "> *  This function prompts the user to enter a date in the format \"YYYY-MM-DD\". It then uses datetime.strptime() to parse the user input into a datetime object. If an exception occurs during the conversion (indicating an invalid date format), it catches the ValueError exception, prints an error message, and returns.\n",
        "* If the date conversion is successful, the function prompts the user to enter an event and stores it in the calendar dictionary using the date as the key and the event as the value. It then prints a success message.\n",
        "\n",
        "3. Defining the function to update an event:"
      ],
      "metadata": {
        "id": "-1jmBcHKnhDh"
      }
    },
    {
      "cell_type": "code",
      "source": [
        "def update_event():\n",
        "    date_str = input(\"Enter the date of the event to update (YYYY-MM-DD): \")\n",
        "    try:\n",
        "        date = datetime.strptime(date_str, \"%Y-%m-%d\")\n",
        "    except ValueError:\n",
        "        print(\"Invalid date format. Please try again.\")\n",
        "        return\n",
        "    \n",
        "    if date not in calendar:\n",
        "        print(\"No event found for the specified date.\")\n",
        "    else:\n",
        "        event = input(\"Enter the updated event: \")\n",
        "        calendar[date] = event\n",
        "        print(\"Event updated successfully.\")\n"
      ],
      "metadata": {
        "id": "irgDFokon9Fp"
      },
      "execution_count": null,
      "outputs": []
    },
    {
      "cell_type": "markdown",
      "source": [
        "> * This function prompts the user to enter a date in the format \"YYYY-MM-DD\". It then uses datetime.strptime() to parse the user input into a datetime object. If an exception occurs during the conversion (indicating an invalid date format), it catches the ValueError exception, prints an error message, and returns.\n",
        "* If the date conversion is successful, the function prompts the user to enter an event and stores it in the calendar dictionary using the date as the key and the event as the value. It then prints a success message.\n",
        "\n",
        "4. Defining the function to Delete an event:"
      ],
      "metadata": {
        "id": "xXeURpSH_4FT"
      }
    },
    {
      "cell_type": "code",
      "source": [
        "def delete_event():\n",
        "    date_str = input(\"Enter the date of the event to delete (YYYY-MM-DD): \")\n",
        "    try:\n",
        "        date = datetime.strptime(date_str, \"%Y-%m-%d\")\n",
        "    except ValueError:\n",
        "        print(\"Invalid date format. Please try again.\")\n",
        "        return\n",
        "    \n",
        "    if date not in calendar:\n",
        "        print(\"No event found for the specified date.\")\n",
        "    else:\n",
        "        del calendar[date]\n",
        "        print(\"Event deleted successfully.\")\n"
      ],
      "metadata": {
        "id": "7Zep2Qa8AXyj"
      },
      "execution_count": null,
      "outputs": []
    },
    {
      "cell_type": "markdown",
      "source": [
        "> * This function prompts the user to enter a date in the format \"YYYY-MM-DD\" to specify the event to delete. It then tries to convert the user input into a datetime object using datetime.strptime(). If an exception occurs during the conversion, it catches the ValueError exception, prints an error message, and returns.\n",
        "* If the date is found in the calendar, the function deletes the corresponding key-value pair from the calendar dictionary. It then prints a success message.\n",
        "\n",
        "5. We will define the Function prompt the user for action :"
      ],
      "metadata": {
        "id": "k9ju20OrAbCI"
      }
    },
    {
      "cell_type": "code",
      "source": [
        "def prompt_user():\n",
        "    while True:\n",
        "        print(\"\\nWhat would you like to do?\")\n",
        "        print(\"1. View the calendar\")\n",
        "        print(\"2. Add an event\")\n",
        "        print(\"3. Update an event\")\n",
        "        print(\"4. Delete an event\")\n",
        "        print(\"5. Exit\")\n",
        "        \n",
        "        choice = input(\"Enter your choice (1-5): \")\n",
        "        \n",
        "        if choice == \"1\":\n",
        "            view_calendar()\n",
        "        elif choice == \"2\":\n",
        "            add_event()\n",
        "        elif choice == \"3\":\n",
        "            update_event()\n",
        "        elif choice == \"4\":\n",
        "            delete_event()\n",
        "        elif choice == \"5\":\n",
        "            print(\"Thank you for using the Calendar App. Goodbye!\")\n",
        "            break\n",
        "        else:\n",
        "            print(\"Invalid choice. Please try again.\")"
      ],
      "metadata": {
        "id": "-jeYOcwIBO_d"
      },
      "execution_count": null,
      "outputs": []
    },
    {
      "cell_type": "markdown",
      "source": [
        "> * This function presents the user with a menu of options and uses a while loop to repeatedly prompt for input until the user chooses to exit.\n",
        "* Based on the user's choice, it calls the corresponding function: view_calendar(), add_event(), update_event(), delete_event(), or it breaks the loop to exit the program\n",
        "\n",
        "6. Defining the main function:\n"
      ],
      "metadata": {
        "id": "HIar0bKCCy44"
      }
    },
    {
      "cell_type": "code",
      "source": [
        "def main():\n",
        "    welcome()\n",
        "    prompt_user()\n"
      ],
      "metadata": {
        "id": "RobsGjrvDbTF"
      },
      "execution_count": null,
      "outputs": []
    },
    {
      "cell_type": "markdown",
      "source": [
        "> This function serves as the entry point of the program. It calls the welcome() function to display the welcome message and then calls the prompt_user() function to start the interaction with the user.\n",
        "\n",
        "7. Executing the main function:"
      ],
      "metadata": {
        "id": "B86NUQ37DntP"
      }
    },
    {
      "cell_type": "code",
      "source": [
        "if __name__ == \"__main__\":\n",
        "    main()\n"
      ],
      "metadata": {
        "id": "B499N95ZEBNM"
      },
      "execution_count": null,
      "outputs": []
    },
    {
      "cell_type": "markdown",
      "source": [
        "> This block of code ensures that the main() function is only executed if the script is run directly (not imported as a module). It allows the script to be reusable as a module in other programs if needed."
      ],
      "metadata": {
        "id": "eb6SZbu_EQ__"
      }
    }
  ]
}